{
 "cells": [
  {
   "cell_type": "code",
   "execution_count": 58,
   "id": "d0d2d04c",
   "metadata": {},
   "outputs": [],
   "source": [
    "import pandas as pd\n",
    "import numpy as np\n",
    "\n",
    "import matplotlib.pyplot as plt"
   ]
  },
  {
   "cell_type": "markdown",
   "id": "9ec7f553",
   "metadata": {},
   "source": [
    "### Dataset"
   ]
  },
  {
   "cell_type": "code",
   "execution_count": 2,
   "id": "35609225",
   "metadata": {},
   "outputs": [],
   "source": [
    "data =  'https://raw.githubusercontent.com/alexeygrigorev/datasets/master/course_lead_scoring.csv'"
   ]
  },
  {
   "cell_type": "code",
   "execution_count": 3,
   "id": "92851ba9",
   "metadata": {},
   "outputs": [
    {
     "name": "stdout",
     "output_type": "stream",
     "text": [
      "--2025-10-19 20:38:56--  https://raw.githubusercontent.com/alexeygrigorev/datasets/master/course_lead_scoring.csv\n",
      "Resolving raw.githubusercontent.com (raw.githubusercontent.com)... 185.199.110.133, 185.199.109.133, 185.199.108.133, ...\n",
      "Connecting to raw.githubusercontent.com (raw.githubusercontent.com)|185.199.110.133|:443... connected.\n",
      "HTTP request sent, awaiting response... 200 OK\n",
      "Length: 80876 (79K) [text/plain]\n",
      "Saving to: ‘data.csv’\n",
      "\n",
      "data.csv            100%[===================>]  78.98K  --.-KB/s    in 0.1s    \n",
      "\n",
      "2025-10-19 20:38:56 (714 KB/s) - ‘data.csv’ saved [80876/80876]\n",
      "\n"
     ]
    }
   ],
   "source": [
    "!wget -O data.csv $data"
   ]
  },
  {
   "cell_type": "code",
   "execution_count": 4,
   "id": "21328ce3",
   "metadata": {},
   "outputs": [
    {
     "data": {
      "text/html": [
       "<div>\n",
       "<style scoped>\n",
       "    .dataframe tbody tr th:only-of-type {\n",
       "        vertical-align: middle;\n",
       "    }\n",
       "\n",
       "    .dataframe tbody tr th {\n",
       "        vertical-align: top;\n",
       "    }\n",
       "\n",
       "    .dataframe thead th {\n",
       "        text-align: right;\n",
       "    }\n",
       "</style>\n",
       "<table border=\"1\" class=\"dataframe\">\n",
       "  <thead>\n",
       "    <tr style=\"text-align: right;\">\n",
       "      <th></th>\n",
       "      <th>lead_source</th>\n",
       "      <th>industry</th>\n",
       "      <th>number_of_courses_viewed</th>\n",
       "      <th>annual_income</th>\n",
       "      <th>employment_status</th>\n",
       "      <th>location</th>\n",
       "      <th>interaction_count</th>\n",
       "      <th>lead_score</th>\n",
       "      <th>converted</th>\n",
       "    </tr>\n",
       "  </thead>\n",
       "  <tbody>\n",
       "    <tr>\n",
       "      <th>0</th>\n",
       "      <td>paid_ads</td>\n",
       "      <td>NaN</td>\n",
       "      <td>1</td>\n",
       "      <td>79450.0</td>\n",
       "      <td>unemployed</td>\n",
       "      <td>south_america</td>\n",
       "      <td>4</td>\n",
       "      <td>0.94</td>\n",
       "      <td>1</td>\n",
       "    </tr>\n",
       "    <tr>\n",
       "      <th>1</th>\n",
       "      <td>social_media</td>\n",
       "      <td>retail</td>\n",
       "      <td>1</td>\n",
       "      <td>46992.0</td>\n",
       "      <td>employed</td>\n",
       "      <td>south_america</td>\n",
       "      <td>1</td>\n",
       "      <td>0.80</td>\n",
       "      <td>0</td>\n",
       "    </tr>\n",
       "    <tr>\n",
       "      <th>2</th>\n",
       "      <td>events</td>\n",
       "      <td>healthcare</td>\n",
       "      <td>5</td>\n",
       "      <td>78796.0</td>\n",
       "      <td>unemployed</td>\n",
       "      <td>australia</td>\n",
       "      <td>3</td>\n",
       "      <td>0.69</td>\n",
       "      <td>1</td>\n",
       "    </tr>\n",
       "    <tr>\n",
       "      <th>3</th>\n",
       "      <td>paid_ads</td>\n",
       "      <td>retail</td>\n",
       "      <td>2</td>\n",
       "      <td>83843.0</td>\n",
       "      <td>NaN</td>\n",
       "      <td>australia</td>\n",
       "      <td>1</td>\n",
       "      <td>0.87</td>\n",
       "      <td>0</td>\n",
       "    </tr>\n",
       "    <tr>\n",
       "      <th>4</th>\n",
       "      <td>referral</td>\n",
       "      <td>education</td>\n",
       "      <td>3</td>\n",
       "      <td>85012.0</td>\n",
       "      <td>self_employed</td>\n",
       "      <td>europe</td>\n",
       "      <td>3</td>\n",
       "      <td>0.62</td>\n",
       "      <td>1</td>\n",
       "    </tr>\n",
       "  </tbody>\n",
       "</table>\n",
       "</div>"
      ],
      "text/plain": [
       "    lead_source    industry  number_of_courses_viewed  annual_income  \\\n",
       "0      paid_ads         NaN                         1        79450.0   \n",
       "1  social_media      retail                         1        46992.0   \n",
       "2        events  healthcare                         5        78796.0   \n",
       "3      paid_ads      retail                         2        83843.0   \n",
       "4      referral   education                         3        85012.0   \n",
       "\n",
       "  employment_status       location  interaction_count  lead_score  converted  \n",
       "0        unemployed  south_america                  4        0.94          1  \n",
       "1          employed  south_america                  1        0.80          0  \n",
       "2        unemployed      australia                  3        0.69          1  \n",
       "3               NaN      australia                  1        0.87          0  \n",
       "4     self_employed         europe                  3        0.62          1  "
      ]
     },
     "execution_count": 4,
     "metadata": {},
     "output_type": "execute_result"
    }
   ],
   "source": [
    "df = pd.read_csv('data.csv')\n",
    "df.head()"
   ]
  },
  {
   "cell_type": "markdown",
   "id": "88d99f7d",
   "metadata": {},
   "source": [
    "### Data preparation"
   ]
  },
  {
   "cell_type": "code",
   "execution_count": 6,
   "id": "4ee2c288",
   "metadata": {},
   "outputs": [
    {
     "data": {
      "text/plain": [
       "lead_source                 128\n",
       "industry                    134\n",
       "number_of_courses_viewed      0\n",
       "annual_income               181\n",
       "employment_status           100\n",
       "location                     63\n",
       "interaction_count             0\n",
       "lead_score                    0\n",
       "converted                     0\n",
       "dtype: int64"
      ]
     },
     "execution_count": 6,
     "metadata": {},
     "output_type": "execute_result"
    }
   ],
   "source": [
    "df.isnull().sum()"
   ]
  },
  {
   "cell_type": "code",
   "execution_count": 7,
   "id": "960e950d",
   "metadata": {},
   "outputs": [
    {
     "data": {
      "text/plain": [
       "lead_source                  object\n",
       "industry                     object\n",
       "number_of_courses_viewed      int64\n",
       "annual_income               float64\n",
       "employment_status            object\n",
       "location                     object\n",
       "interaction_count             int64\n",
       "lead_score                  float64\n",
       "converted                     int64\n",
       "dtype: object"
      ]
     },
     "execution_count": 7,
     "metadata": {},
     "output_type": "execute_result"
    }
   ],
   "source": [
    "df.dtypes"
   ]
  },
  {
   "cell_type": "code",
   "execution_count": 10,
   "id": "96775ce9",
   "metadata": {},
   "outputs": [],
   "source": [
    "df.lead_source = df.lead_source.fillna('NA')\n",
    "df.industry = df.industry.fillna('NA')\n",
    "df.annual_income = df.annual_income.fillna(0.0)\n",
    "df.employment_status = df.employment_status.fillna('NA')\n",
    "df.location = df.location.fillna('NA')"
   ]
  },
  {
   "cell_type": "code",
   "execution_count": 12,
   "id": "e07aa5f8",
   "metadata": {},
   "outputs": [],
   "source": [
    "from sklearn.model_selection import train_test_split"
   ]
  },
  {
   "cell_type": "code",
   "execution_count": 14,
   "id": "a2e00069",
   "metadata": {},
   "outputs": [],
   "source": [
    "random_state = 1"
   ]
  },
  {
   "cell_type": "code",
   "execution_count": 15,
   "id": "ac055c88",
   "metadata": {},
   "outputs": [
    {
     "data": {
      "text/plain": [
       "(1169, 293)"
      ]
     },
     "execution_count": 15,
     "metadata": {},
     "output_type": "execute_result"
    }
   ],
   "source": [
    "df_full_train, df_test = train_test_split(df, test_size=0.2, random_state=random_state)\n",
    "len(df_full_train), len(df_test)"
   ]
  },
  {
   "cell_type": "code",
   "execution_count": 16,
   "id": "96ee0c9e",
   "metadata": {},
   "outputs": [
    {
     "data": {
      "text/plain": [
       "(876, 293, 293)"
      ]
     },
     "execution_count": 16,
     "metadata": {},
     "output_type": "execute_result"
    }
   ],
   "source": [
    "df_train, df_val = train_test_split(df_full_train, test_size=0.25, random_state=random_state)\n",
    "len(df_train), len(df_val), len(df_test)"
   ]
  },
  {
   "cell_type": "code",
   "execution_count": 17,
   "id": "5b08a800",
   "metadata": {},
   "outputs": [],
   "source": [
    "df_train = df_train.reset_index(drop=True)\n",
    "df_val = df_val.reset_index(drop=True)\n",
    "df_test = df_test.reset_index(drop=True)"
   ]
  },
  {
   "cell_type": "code",
   "execution_count": 18,
   "id": "55ef08dc",
   "metadata": {},
   "outputs": [],
   "source": [
    "y_train = df_train.converted.values\n",
    "y_val = df_val.converted.values\n",
    "y_test = df_test.converted.values"
   ]
  },
  {
   "cell_type": "code",
   "execution_count": 19,
   "id": "4f27c668",
   "metadata": {},
   "outputs": [],
   "source": [
    "df_train = df_train.drop(columns=['converted'])\n",
    "df_val = df_val.drop(columns=['converted'])\n",
    "df_test = df_test.drop(columns=['converted'])"
   ]
  },
  {
   "cell_type": "code",
   "execution_count": 38,
   "id": "0c97532b",
   "metadata": {},
   "outputs": [],
   "source": [
    "categorical_vars = ['lead_source', 'industry', 'employment_status', 'location']\n",
    "numerical_vars = ['number_of_courses_viewed', 'annual_income', 'interaction_count', 'lead_score']"
   ]
  },
  {
   "cell_type": "markdown",
   "id": "c8decf61",
   "metadata": {},
   "source": [
    "### Question 1: ROC AUC feature importance\n",
    "\n",
    "ROC AUC could also be used to evaluate feature importance of numerical variables. \n",
    "\n",
    "Let's do that\n",
    "\n",
    "* For each numerical variable, use it as score (aka prediction) and compute the AUC with the `y` variable as ground truth.\n",
    "* Use the training dataset for that\n",
    "\n",
    "\n",
    "If your AUC is < 0.5, invert this variable by putting \"-\" in front\n",
    "\n",
    "(e.g. `-df_train['balance']`)\n",
    "\n",
    "AUC can go below 0.5 if the variable is negatively correlated with the target variable. You can change the direction of the correlation by negating this variable - then negative correlation becomes positive.\n",
    "\n",
    "Which numerical variable (among the following 4) has the highest AUC?\n",
    "\n",
    "- `lead_score`\n",
    "- `number_of_courses_viewed`\n",
    "- `interaction_count`\n",
    "- `annual_income`\n",
    "\n"
   ]
  },
  {
   "cell_type": "code",
   "execution_count": null,
   "id": "f58a063d",
   "metadata": {},
   "outputs": [],
   "source": [
    "from sklearn.metrics import roc_auc_score"
   ]
  },
  {
   "cell_type": "code",
   "execution_count": 34,
   "id": "681948a0",
   "metadata": {},
   "outputs": [
    {
     "name": "stdout",
     "output_type": "stream",
     "text": [
      "number_of_courses_viewed: 0.764\n",
      "annual_income: 0.552\n",
      "interaction_count: 0.738\n",
      "lead_score: 0.614\n"
     ]
    }
   ],
   "source": [
    "for feature in numerical_vars:\n",
    "    scores = df_train[feature].values\n",
    "    auc = roc_auc_score(y_train, scores)\n",
    "    if auc < 0.5:\n",
    "        auc = roc_auc_score(y_train, -scores)\n",
    "        print(f\"{feature}: {auc:.3f} (inverted)\")\n",
    "    else:\n",
    "        print(f\"{feature}: {auc:.3f}\")\n"
   ]
  },
  {
   "cell_type": "markdown",
   "id": "13fdb952",
   "metadata": {},
   "source": [
    "### Question 2: Training the model\n",
    "\n",
    "Apply one-hot-encoding using `DictVectorizer` and train the logistic regression with these parameters:\n",
    "\n",
    "```python\n",
    "LogisticRegression(solver='liblinear', C=1.0, max_iter=1000)\n",
    "```\n",
    "\n",
    "What's the AUC of this model on the validation dataset? (round to 3 digits)\n",
    "\n",
    "- 0.32\n",
    "- 0.52\n",
    "- 0.72\n",
    "- 0.92"
   ]
  },
  {
   "cell_type": "code",
   "execution_count": 42,
   "id": "ce4080eb",
   "metadata": {},
   "outputs": [],
   "source": [
    "from sklearn.feature_extraction import DictVectorizer\n",
    "from sklearn.linear_model import LogisticRegression\n",
    "from sklearn.preprocessing import StandardScaler"
   ]
  },
  {
   "cell_type": "code",
   "execution_count": 50,
   "id": "b835ae11",
   "metadata": {},
   "outputs": [],
   "source": [
    "train_vars = numerical_vars + categorical_vars"
   ]
  },
  {
   "cell_type": "code",
   "execution_count": 44,
   "id": "b3da5037",
   "metadata": {},
   "outputs": [],
   "source": [
    "X_train_num = df_train[numerical_vars]\n",
    "X_val_num = df_val[numerical_vars]\n",
    "\n",
    "scaler = StandardScaler()\n",
    "X_train_num = scaler.fit_transform(X_train_num)\n",
    "X_val_num = scaler.transform(X_val_num)\n"
   ]
  },
  {
   "cell_type": "code",
   "execution_count": 48,
   "id": "e63c7c9c",
   "metadata": {},
   "outputs": [],
   "source": [
    "X_train_cat = df_train[categorical_vars]\n",
    "X_val_cat = df_val[categorical_vars]\n",
    "\n",
    "train_dicts = X_train_cat.to_dict(orient='records')\n",
    "val_dicts = X_val_cat.to_dict(orient='records')\n",
    "\n",
    "dv = DictVectorizer(sparse=False)\n",
    "X_train_cat = dv.fit_transform(train_dicts)\n",
    "X_val_cat = dv.transform(val_dicts)"
   ]
  },
  {
   "cell_type": "code",
   "execution_count": 51,
   "id": "077f2bf9",
   "metadata": {},
   "outputs": [],
   "source": [
    "X_train = np.column_stack([X_train_num, X_train_cat])\n",
    "X_val = np.column_stack([X_val_num, X_val_cat])"
   ]
  },
  {
   "cell_type": "code",
   "execution_count": 52,
   "id": "39c8d258",
   "metadata": {},
   "outputs": [
    {
     "data": {
      "text/plain": [
       "0.921"
      ]
     },
     "execution_count": 52,
     "metadata": {},
     "output_type": "execute_result"
    }
   ],
   "source": [
    "model = LogisticRegression(solver='liblinear', C=1.0, max_iter=1000)\n",
    "model.fit(X_train, y_train)\n",
    "\n",
    "y_val_pred_proba = model.predict_proba(X_val)[:, 1]\n",
    "round(roc_auc_score(y_val, y_val_pred_proba), 3)"
   ]
  },
  {
   "cell_type": "markdown",
   "id": "b168f44c",
   "metadata": {},
   "source": [
    "### Question 3: Precision and Recall\n",
    "\n",
    "Now let's compute precision and recall for our model.\n",
    "\n",
    "* Evaluate the model on all thresholds from 0.0 to 1.0 with step 0.01\n",
    "* For each threshold, compute precision and recall\n",
    "* Plot them\n",
    "\n",
    "At which threshold precision and recall curves intersect?\n",
    "\n",
    "* 0.145\n",
    "* 0.345\n",
    "* 0.545\n",
    "* 0.745"
   ]
  },
  {
   "cell_type": "code",
   "execution_count": 53,
   "id": "5d186aaa",
   "metadata": {},
   "outputs": [],
   "source": [
    "from sklearn.metrics import precision_recall_curve"
   ]
  },
  {
   "cell_type": "code",
   "execution_count": 60,
   "id": "af5a771b",
   "metadata": {},
   "outputs": [],
   "source": [
    "precision, recall, thresholds = precision_recall_curve(y_val, y_val_pred_proba)"
   ]
  },
  {
   "cell_type": "code",
   "execution_count": 67,
   "id": "e59cccc6",
   "metadata": {},
   "outputs": [
    {
     "data": {
      "image/png": "[encoded data removed]",
      "text/plain": [
       "<Figure size 1000x600 with 1 Axes>"
      ]
     },
     "metadata": {},
     "output_type": "display_data"
    }
   ],
   "source": [
    "plt.figure(figsize=(10, 6))\n",
    "plt.plot(thresholds, precision[:-1], label='precision')\n",
    "plt.plot(thresholds, recall[:-1], label='recall')\n",
    "\n",
    "plt.xticks(np.arange(0, 1.05, 0.05))\n",
    "plt.xlim([0, 1])\n",
    "\n",
    "plt.xlabel('threshold')\n",
    "plt.legend()\n",
    "plt.grid(True)"
   ]
  },
  {
   "cell_type": "markdown",
   "id": "967238cb",
   "metadata": {},
   "source": [
    "### Question 4: F1 score\n",
    "\n",
    "Precision and recall are conflicting - when one grows, the other goes down. That's why they are often combined into the F1 score - a metrics that takes into account both\n",
    "\n",
    "This is the formula for computing F1:\n",
    "\n",
    "$$F_1 = 2 \\cdot \\cfrac{P \\cdot R}{P + R}$$\n",
    "\n",
    "Where $P$ is precision and $R$ is recall.\n",
    "\n",
    "Let's compute F1 for all thresholds from 0.0 to 1.0 with increment 0.01\n",
    "\n",
    "At which threshold F1 is maximal?\n",
    "\n",
    "- 0.14\n",
    "- 0.34\n",
    "- 0.54\n",
    "- 0.74"
   ]
  },
  {
   "cell_type": "code",
   "execution_count": 71,
   "id": "cb499dbd",
   "metadata": {},
   "outputs": [],
   "source": [
    "f1_scores = {}\n",
    "\n",
    "for idx in range(len(thresholds)):\n",
    "    threshold = thresholds[idx]\n",
    "    f1_scores[threshold] = 2 * precision[idx] * recall[idx] / (precision[idx] + recall[idx])"
   ]
  },
  {
   "cell_type": "code",
   "execution_count": 74,
   "id": "5afcdb18",
   "metadata": {},
   "outputs": [
    {
     "data": {
      "text/plain": [
       "[(np.float64(0.5217737832486514), np.float64(0.8837209302325582)),\n",
       " (np.float64(0.5364619528965933), np.float64(0.8830409356725146)),\n",
       " (np.float64(0.5213974209280052), np.float64(0.881159420289855)),\n",
       " (np.float64(0.5308593940207861), np.float64(0.880466472303207)),\n",
       " (np.float64(0.5392759052186367), np.float64(0.879765395894428)),\n",
       " (np.float64(0.5475919707728248), np.float64(0.8790560471976402)),\n",
       " (np.float64(0.5202543303185538), np.float64(0.8786127167630058)),\n",
       " (np.float64(0.5773963536478252), np.float64(0.876876876876877)),\n",
       " (np.float64(0.5449110506370212), np.float64(0.8764705882352941)),\n",
       " (np.float64(0.5189117846379092), np.float64(0.8760806916426512)),\n",
       " (np.float64(0.5509328841921567), np.float64(0.875739644970414)),\n",
       " (np.float64(0.4046799119359177), np.float64(0.8746518105849582)),\n",
       " (np.float64(0.3750326512511625), np.float64(0.8743169398907102)),\n",
       " (np.float64(0.5024374748336249), np.float64(0.8742857142857143)),\n",
       " (np.float64(0.5755909457435578), np.float64(0.874251497005988)),\n",
       " (np.float64(0.4212280003464758), np.float64(0.8739495798319329)),\n",
       " (np.float64(0.3852950912994541), np.float64(0.8736263736263737)),\n",
       " (np.float64(0.5097903982926725), np.float64(0.8735632183908045)),\n",
       " (np.float64(0.592989945083813), np.float64(0.8734939759036144)),\n",
       " (np.float64(0.48994163376507777), np.float64(0.8725212464589235)),\n",
       " (np.float64(0.5518117076423934), np.float64(0.8724035608308606)),\n",
       " (np.float64(0.3922263939882122), np.float64(0.8722222222222223)),\n",
       " (np.float64(0.3732558054825621), np.float64(0.8719346049046321)),\n",
       " (np.float64(0.5000089252199728), np.float64(0.8717948717948718)),\n",
       " (np.float64(0.5743405168351902), np.float64(0.8716417910447761)),\n",
       " (np.float64(0.4157364603665217), np.float64(0.8715083798882681)),\n",
       " (np.float64(0.38174387921547565), np.float64(0.8712328767123289)),\n",
       " (np.float64(0.508569240665247), np.float64(0.8710601719197708)),\n",
       " (np.float64(0.42838133920995886), np.float64(0.8707865168539327)),\n",
       " (np.float64(0.3887650463121169), np.float64(0.8705234159779615)),\n",
       " (np.float64(0.5977220758805091), np.float64(0.8700906344410877)),\n",
       " (np.float64(0.4834785498336477), np.float64(0.8700564971751413)),\n",
       " (np.float64(0.39108777987799836), np.float64(0.8698060941828255)),\n",
       " (np.float64(0.36565901678291574), np.float64(0.8695652173913043)),\n",
       " (np.float64(0.6559320070401548), np.float64(0.8695652173913042)),\n",
       " (np.float64(0.498748994205617), np.float64(0.8693181818181818)),\n",
       " (np.float64(0.5984782904520738), np.float64(0.8693009118541033)),\n",
       " (np.float64(0.5533287032655466), np.float64(0.8690476190476191)),\n",
       " (np.float64(0.3480824450533366), np.float64(0.8686327077747988)),\n",
       " (np.float64(0.437546440469055), np.float64(0.867605633802817)),\n",
       " (np.float64(0.390380168179365), np.float64(0.8674033149171271)),\n",
       " (np.float64(0.36159931250576544), np.float64(0.8672086720867209)),\n",
       " (np.float64(0.6471230700281112), np.float64(0.8668730650154798)),\n",
       " (np.float64(0.5984401866627245), np.float64(0.8666666666666667)),\n",
       " (np.float64(0.34419420815235335), np.float64(0.8663101604278075)),\n",
       " (np.float64(0.6572394145951967), np.float64(0.866043613707165)),\n",
       " (np.float64(0.6026556545874431), np.float64(0.8658536585365855)),\n",
       " (np.float64(0.3504223657515014), np.float64(0.8655913978494623)),\n",
       " (np.float64(0.3585226709326613), np.float64(0.8648648648648649)),\n",
       " (np.float64(0.6324785712406392), np.float64(0.8641975308641975)),\n",
       " (np.float64(0.3395806780764373), np.float64(0.864)),\n",
       " (np.float64(0.35282195602968397), np.float64(0.8625336927223719)),\n",
       " (np.float64(0.6701586058944334), np.float64(0.8624999999999999)),\n",
       " (np.float64(0.3207146691552585), np.float64(0.8624338624338626)),\n",
       " (np.float64(0.6027837867931218), np.float64(0.8623853211009175)),\n",
       " (np.float64(0.32895863300233125), np.float64(0.8617021276595743)),\n",
       " (np.float64(0.618241259647338), np.float64(0.8615384615384616)),\n",
       " (np.float64(0.3137837528358429), np.float64(0.8601583113456465)),\n",
       " (np.float64(0.3266650081145753), np.float64(0.8594164456233422)),\n",
       " (np.float64(0.6878732777144156), np.float64(0.8589341692789969)),\n",
       " (np.float64(0.6080379281653905), np.float64(0.8588957055214724)),\n",
       " (np.float64(0.313682761881943), np.float64(0.8578947368421053)),\n",
       " (np.float64(0.31135405933238985), np.float64(0.8556430446194226)),\n",
       " (np.float64(0.6899844263310387), np.float64(0.8553459119496855)),\n",
       " (np.float64(0.30234408373717225), np.float64(0.8534031413612566)),\n",
       " (np.float64(0.7625671059556698), np.float64(0.8525641025641026)),\n",
       " (np.float64(0.691087056099423), np.float64(0.8517350157728706)),\n",
       " (np.float64(0.763435220143736), np.float64(0.8516129032258064)),\n",
       " (np.float64(0.3009615207926137), np.float64(0.8511749347258486)),\n",
       " (np.float64(0.6988449172852766), np.float64(0.8507936507936509)),\n",
       " (np.float64(0.7376940046600343), np.float64(0.8498402555910542)),\n",
       " (np.float64(0.28096273906948205), np.float64(0.849740932642487)),\n",
       " (np.float64(0.29923707537526995), np.float64(0.8489583333333334)),\n",
       " (np.float64(0.7625887697895917), np.float64(0.8488745980707395)),\n",
       " (np.float64(0.6942153427773935), np.float64(0.8481012658227848)),\n",
       " (np.float64(0.7712829407486337), np.float64(0.8478964401294499)),\n",
       " (np.float64(0.2787115622542717), np.float64(0.8475452196382429)),\n",
       " (np.float64(0.7110456345739345), np.float64(0.8471337579617835)),\n",
       " (np.float64(0.2908195786482923), np.float64(0.8467532467532467)),\n",
       " (np.float64(0.2711236428963506), np.float64(0.8453608247422679)),\n",
       " (np.float64(0.788576346606109), np.float64(0.8441558441558442)),\n",
       " (np.float64(0.2667482858595051), np.float64(0.8431876606683804)),\n",
       " (np.float64(0.26544169576613325), np.float64(0.841025641025641)),\n",
       " (np.float64(0.7964772798562929), np.float64(0.8403908794788274)),\n",
       " (np.float64(0.2595736816312728), np.float64(0.8388746803069054)),\n",
       " (np.float64(0.2590718374376475), np.float64(0.836734693877551)),\n",
       " (np.float64(0.7992080231961762), np.float64(0.8366013071895424)),\n",
       " (np.float64(0.24580639380502886), np.float64(0.8346055979643766)),\n",
       " (np.float64(0.8014617112628937), np.float64(0.8327868852459017)),\n",
       " (np.float64(0.24531744893267138), np.float64(0.83248730964467)),\n",
       " (np.float64(0.23061940221984684), np.float64(0.8312342569269522)),\n",
       " (np.float64(0.2420153414529472), np.float64(0.830379746835443)),\n",
       " (np.float64(0.21833559303595046), np.float64(0.8291457286432161)),\n",
       " (np.float64(0.8031606441669317), np.float64(0.8289473684210525)),\n",
       " (np.float64(0.2418734411545975), np.float64(0.8282828282828284)),\n",
       " (np.float64(0.2179283176250658), np.float64(0.8270676691729324)),\n",
       " (np.float64(0.8034748092318573), np.float64(0.8250825082508251)),\n",
       " (np.float64(0.217691543523738), np.float64(0.825)),\n",
       " (np.float64(0.20702742808162722), np.float64(0.8229426433915211)),\n",
       " (np.float64(0.8100442427745774), np.float64(0.8211920529801324)),\n",
       " (np.float64(0.2015707468916636), np.float64(0.8208955223880597)),\n",
       " (np.float64(0.1998177173534752), np.float64(0.8188585607940446)),\n",
       " (np.float64(0.1941350243613001), np.float64(0.8177339901477833)),\n",
       " (np.float64(0.8100936942006012), np.float64(0.8172757475083057)),\n",
       " (np.float64(0.19695972397894712), np.float64(0.8168316831683168)),\n",
       " (np.float64(0.1914014797127173), np.float64(0.8157248157248157)),\n",
       " (np.float64(0.19641243157241975), np.float64(0.8148148148148149)),\n",
       " (np.float64(0.18251094450648428), np.float64(0.8137254901960784)),\n",
       " (np.float64(0.8106531777098283), np.float64(0.8133333333333334)),\n",
       " (np.float64(0.8276806045434271), np.float64(0.8120805369127517)),\n",
       " (np.float64(0.18074520191257318), np.float64(0.8117359413202935)),\n",
       " (np.float64(0.18010639439029136), np.float64(0.8097560975609756)),\n",
       " (np.float64(0.8255540438364927), np.float64(0.8093645484949833)),\n",
       " (np.float64(0.8311309979326629), np.float64(0.8080808080808081)),\n",
       " (np.float64(0.17981346226030953), np.float64(0.8077858880778589)),\n",
       " (np.float64(0.17764092831528822), np.float64(0.8058252427184467)),\n",
       " (np.float64(0.8360026150557308), np.float64(0.8040540540540541)),\n",
       " (np.float64(0.17741502628465936), np.float64(0.8038740920096853)),\n",
       " (np.float64(0.17704865904091593), np.float64(0.8019323671497585)),\n",
       " (np.float64(0.1765111523975181), np.float64(0.7999999999999999)),\n",
       " (np.float64(0.8522413313413744), np.float64(0.7999999999999999)),\n",
       " (np.float64(0.1734821416885972), np.float64(0.7980769230769231)),\n",
       " (np.float64(0.16276224823078395), np.float64(0.7971360381861575)),\n",
       " (np.float64(0.16531317962413372), np.float64(0.7961630695443644)),\n",
       " (np.float64(0.8530124009790192), np.float64(0.7959183673469389)),\n",
       " (np.float64(0.15487557465076912), np.float64(0.7952380952380952)),\n",
       " (np.float64(0.16301581967101192), np.float64(0.7942583732057416)),\n",
       " (np.float64(0.1534255774211809), np.float64(0.7933491686460807)),\n",
       " (np.float64(0.8588914643066553), np.float64(0.7918088737201364)),\n",
       " (np.float64(0.14804505553655534), np.float64(0.791469194312796)),\n",
       " (np.float64(0.1448041632632849), np.float64(0.7905882352941176)),\n",
       " (np.float64(0.14802838381185748), np.float64(0.789598108747045)),\n",
       " (np.float64(0.13972506599730267), np.float64(0.7887323943661971)),\n",
       " (np.float64(0.14801350588694956), np.float64(0.7877358490566037)),\n",
       " (np.float64(0.8609428351684009), np.float64(0.7876712328767123)),\n",
       " (np.float64(0.1359435006045644), np.float64(0.7868852459016393)),\n",
       " (np.float64(0.12543574262442425), np.float64(0.7850467289719627)),\n",
       " (np.float64(0.8611958216269033), np.float64(0.7835051546391752)),\n",
       " (np.float64(0.11781853182994965), np.float64(0.7832167832167831)),\n",
       " (np.float64(0.11134471419086245), np.float64(0.7813953488372093)),\n",
       " (np.float64(0.10545324339352173), np.float64(0.7795823665893272)),\n",
       " (np.float64(0.8655233232540255), np.float64(0.7793103448275862)),\n",
       " (np.float64(0.09982520536747645), np.float64(0.7777777777777777)),\n",
       " (np.float64(0.07596533497836624), np.float64(0.7770114942528735)),\n",
       " (np.float64(0.09183414832372877), np.float64(0.7759815242494226)),\n",
       " (np.float64(0.07207052048176198), np.float64(0.7752293577981652)),\n",
       " (np.float64(0.8702579189612867), np.float64(0.7750865051903113)),\n",
       " (np.float64(0.08868849789449124), np.float64(0.7741935483870968)),\n",
       " (np.float64(0.06662508904919197), np.float64(0.7734553775743707)),\n",
       " (np.float64(0.06156597274214175), np.float64(0.7716894977168949)),\n",
       " (np.float64(0.8769466041060905), np.float64(0.7708333333333334)),\n",
       " (np.float64(0.06027715007992845), np.float64(0.7699316628701595)),\n",
       " (np.float64(0.042983293262325244), np.float64(0.7692307692307692)),\n",
       " (np.float64(0.04716121645965964), np.float64(0.7681818181818183)),\n",
       " (np.float64(0.04204488586142965), np.float64(0.7674943566591423)),\n",
       " (np.float64(0.8776997542000404), np.float64(0.7665505226480837)),\n",
       " (np.float64(0.04474110968503941), np.float64(0.7664399092970522)),\n",
       " (np.float64(0.0419112474843929), np.float64(0.7657657657657657)),\n",
       " (np.float64(0.039619284277488856), np.float64(0.7640449438202247)),\n",
       " (np.float64(0.03762145977526864), np.float64(0.7623318385650224)),\n",
       " (np.float64(0.88144642714886), np.float64(0.7622377622377622)),\n",
       " (np.float64(0.036296272384254764), np.float64(0.7606263982102908)),\n",
       " (np.float64(0.02494836421361472), np.float64(0.76)),\n",
       " (np.float64(0.034505852884117214), np.float64(0.7589285714285714)),\n",
       " (np.float64(0.021544518583688436), np.float64(0.7583148558758315)),\n",
       " (np.float64(0.8854318160308354), np.float64(0.7578947368421052)),\n",
       " (np.float64(0.031614259383679205), np.float64(0.7572383073496658)),\n",
       " (np.float64(0.021130260470113852), np.float64(0.7566371681415929)),\n",
       " (np.float64(0.018983779392346772), np.float64(0.7549668874172186)),\n",
       " (np.float64(0.8868888170430733), np.float64(0.7535211267605635)),\n",
       " (np.float64(0.014643768859003361), np.float64(0.7533039647577092)),\n",
       " (np.float64(0.014484190780322481), np.float64(0.7516483516483516)),\n",
       " (np.float64(0.01394733827368469), np.float64(0.7499999999999999)),\n",
       " (np.float64(0.8879003775008177), np.float64(0.7491166077738515)),\n",
       " (np.float64(0.012699233693899428), np.float64(0.7483588621444202)),\n",
       " (np.float64(0.012154968800962855), np.float64(0.7467248908296943)),\n",
       " (np.float64(0.007780259639717836), np.float64(0.7450980392156863)),\n",
       " (np.float64(0.8888398905121212), np.float64(0.7446808510638299)),\n",
       " (np.float64(0.006416104526086896), np.float64(0.7434782608695651)),\n",
       " (np.float64(0.005143243231775338), np.float64(0.7418655097613882)),\n",
       " (np.float64(0.0033628422832663006), np.float64(0.7402597402597402)),\n",
       " (np.float64(0.8893161957278205), np.float64(0.7402135231316725)),\n",
       " (np.float64(0.002250617261144697), np.float64(0.7386609071274298)),\n",
       " (np.float64(0.0017963327937034845), np.float64(0.7370689655172414)),\n",
       " (np.float64(0.8947397014500603), np.float64(0.7357142857142857)),\n",
       " (np.float64(0.8948213289291311), np.float64(0.7311827956989247)),\n",
       " (np.float64(0.8950964423288742), np.float64(0.7266187050359711)),\n",
       " (np.float64(0.9036755558667436), np.float64(0.7246376811594203)),\n",
       " (np.float64(0.8955532816223919), np.float64(0.7220216606498195)),\n",
       " (np.float64(0.9042669596969356), np.float64(0.72)),\n",
       " (np.float64(0.905573652955803), np.float64(0.717948717948718)),\n",
       " (np.float64(0.9054594790691254), np.float64(0.7153284671532848)),\n",
       " (np.float64(0.9098361297719683), np.float64(0.713235294117647)),\n",
       " (np.float64(0.9099771241463519), np.float64(0.7084870848708488)),\n",
       " (np.float64(0.9127562730800773), np.float64(0.7037037037037037)),\n",
       " (np.float64(0.9143498869896399), np.float64(0.6988847583643122)),\n",
       " (np.float64(0.9185537440486281), np.float64(0.6940298507462688)),\n",
       " (np.float64(0.9188422657511731), np.float64(0.6891385767790262)),\n",
       " (np.float64(0.9199444779004459), np.float64(0.6842105263157896)),\n",
       " (np.float64(0.9203751614956962), np.float64(0.6792452830188679)),\n",
       " (np.float64(0.9216839502157215), np.float64(0.6742424242424242)),\n",
       " (np.float64(0.9224554219365116), np.float64(0.6692015209125476)),\n",
       " (np.float64(0.9280929388974125), np.float64(0.6641221374045803)),\n",
       " (np.float64(0.9289070123765818), np.float64(0.6590038314176245)),\n",
       " (np.float64(0.9385701696685299), np.float64(0.6538461538461539)),\n",
       " (np.float64(0.9402419267592208), np.float64(0.6486486486486487)),\n",
       " (np.float64(0.9406661396790398), np.float64(0.6434108527131783)),\n",
       " (np.float64(0.9406894327455858), np.float64(0.6381322957198443)),\n",
       " (np.float64(0.940745178375539), np.float64(0.6328125)),\n",
       " (np.float64(0.942379436235457), np.float64(0.6274509803921569)),\n",
       " (np.float64(0.9471083693290657), np.float64(0.6220472440944882)),\n",
       " (np.float64(0.9484632404283608), np.float64(0.616600790513834)),\n",
       " (np.float64(0.9497906527468792), np.float64(0.611111111111111)),\n",
       " (np.float64(0.9500932996682294), np.float64(0.6055776892430278)),\n",
       " (np.float64(0.9504617350956278), np.float64(0.6024096385542169)),\n",
       " (np.float64(0.9503098953709286), np.float64(0.5999999999999999)),\n",
       " (np.float64(0.9514533260032966), np.float64(0.596774193548387)),\n",
       " (np.float64(0.9520481782520973), np.float64(0.5910931174089069)),\n",
       " (np.float64(0.9530712063837755), np.float64(0.5853658536585366)),\n",
       " (np.float64(0.9534827986995542), np.float64(0.5795918367346938)),\n",
       " (np.float64(0.9537130456870233), np.float64(0.5737704918032787)),\n",
       " (np.float64(0.955290445009442), np.float64(0.5702479338842975)),\n",
       " (np.float64(0.9542786892260339), np.float64(0.5679012345679012)),\n",
       " (np.float64(0.9573847390460394), np.float64(0.5643153526970955)),\n",
       " (np.float64(0.958268862642516), np.float64(0.5583333333333333)),\n",
       " (np.float64(0.9603608238988381), np.float64(0.5546218487394957)),\n",
       " (np.float64(0.9599125601700655), np.float64(0.5523012552301255)),\n",
       " (np.float64(0.9615468784322733), np.float64(0.5508474576271186)),\n",
       " (np.float64(0.9614194410929476), np.float64(0.5485232067510548)),\n",
       " (np.float64(0.9634039305664664), np.float64(0.5446808510638298)),\n",
       " (np.float64(0.9677204311643443), np.float64(0.5384615384615384)),\n",
       " (np.float64(0.9677863117641561), np.float64(0.5321888412017167)),\n",
       " (np.float64(0.9724623502808811), np.float64(0.5258620689655172)),\n",
       " (np.float64(0.9727601730498681), np.float64(0.5194805194805194)),\n",
       " (np.float64(0.9730012188301695), np.float64(0.5130434782608695)),\n",
       " (np.float64(0.9730627511431172), np.float64(0.5065502183406114)),\n",
       " (np.float64(0.9739316451758133), np.float64(0.5)),\n",
       " (np.float64(0.9754123467506979), np.float64(0.4933920704845815)),\n",
       " (np.float64(0.9776478568045148), np.float64(0.48672566371681414)),\n",
       " (np.float64(0.9785150786227232), np.float64(0.4799999999999999)),\n",
       " (np.float64(0.9788135403761452), np.float64(0.4732142857142857)),\n",
       " (np.float64(0.9796894946916873), np.float64(0.46636771300448426)),\n",
       " (np.float64(0.9803654133965063), np.float64(0.45945945945945943)),\n",
       " (np.float64(0.9806654377174089), np.float64(0.45248868778280543)),\n",
       " (np.float64(0.9813732160043457), np.float64(0.44545454545454544)),\n",
       " (np.float64(0.9815904927829464), np.float64(0.4383561643835616)),\n",
       " (np.float64(0.9816690590562084), np.float64(0.4311926605504587)),\n",
       " (np.float64(0.9827712828518723), np.float64(0.42396313364055294)),\n",
       " (np.float64(0.9841179763974051), np.float64(0.4166666666666667)),\n",
       " (np.float64(0.9847206147784208), np.float64(0.40930232558139534)),\n",
       " (np.float64(0.9861148472509951), np.float64(0.40186915887850466)),\n",
       " (np.float64(0.9865115694661477), np.float64(0.3943661971830986)),\n",
       " (np.float64(0.986813029981888), np.float64(0.3867924528301887)),\n",
       " (np.float64(0.9888572244626623), np.float64(0.3791469194312796)),\n",
       " (np.float64(0.9902028240630056), np.float64(0.3714285714285714)),\n",
       " (np.float64(0.9920788473338219), np.float64(0.3636363636363636)),\n",
       " (np.float64(0.9924291932905989), np.float64(0.3557692307692308)),\n",
       " (np.float64(0.9930144040337854), np.float64(0.34782608695652173)),\n",
       " (np.float64(0.9930611770813126), np.float64(0.3398058252427184)),\n",
       " (np.float64(0.9931712965830682), np.float64(0.33170731707317075)),\n",
       " (np.float64(0.9945991173121246), np.float64(0.3235294117647059)),\n",
       " (np.float64(0.9947607797860791), np.float64(0.31527093596059114)),\n",
       " (np.float64(0.9948386359201981), np.float64(0.3069306930693069)),\n",
       " (np.float64(0.9949650828699762), np.float64(0.29850746268656714)),\n",
       " (np.float64(0.9959210957251593), np.float64(0.29)),\n",
       " (np.float64(0.9961758685782268), np.float64(0.2814070351758794)),\n",
       " (np.float64(0.9963486139958242), np.float64(0.2727272727272727)),\n",
       " (np.float64(0.9965334889878306), np.float64(0.2639593908629442)),\n",
       " (np.float64(0.9967034395028145), np.float64(0.25510204081632654)),\n",
       " (np.float64(0.9970202723294007), np.float64(0.24615384615384614)),\n",
       " (np.float64(0.9970299575928384), np.float64(0.23711340206185566)),\n",
       " (np.float64(0.9972004113846381), np.float64(0.22797927461139894)),\n",
       " (np.float64(0.9973481619100588), np.float64(0.21875)),\n",
       " (np.float64(0.9975528397820845), np.float64(0.2094240837696335)),\n",
       " (np.float64(0.9977736343855642), np.float64(0.19999999999999998)),\n",
       " (np.float64(0.9977799057624824), np.float64(0.1904761904761905)),\n",
       " (np.float64(0.9980972446716261), np.float64(0.18085106382978725)),\n",
       " (np.float64(0.9981137589715976), np.float64(0.1711229946524064)),\n",
       " (np.float64(0.9981251609737825), np.float64(0.16129032258064516)),\n",
       " (np.float64(0.998184349976207), np.float64(0.15135135135135133)),\n",
       " (np.float64(0.9983832286417214), np.float64(0.14130434782608695)),\n",
       " (np.float64(0.9987457948726067), np.float64(0.13114754098360656)),\n",
       " (np.float64(0.9990964162573684), np.float64(0.12087912087912087)),\n",
       " (np.float64(0.9991468032404377), np.float64(0.11049723756906078)),\n",
       " (np.float64(0.9992411141938152), np.float64(0.1)),\n",
       " (np.float64(0.999257041887255), np.float64(0.08938547486033518)),\n",
       " (np.float64(0.9994846287004391), np.float64(0.07865168539325842)),\n",
       " (np.float64(0.9996734771999924), np.float64(0.06779661016949151)),\n",
       " (np.float64(0.999682983450775), np.float64(0.056818181818181816)),\n",
       " (np.float64(0.9997118380123536), np.float64(0.045714285714285714)),\n",
       " (np.float64(0.9997127503129145), np.float64(0.034482758620689655)),\n",
       " (np.float64(0.9999511579178869), np.float64(0.023121387283236997)),\n",
       " (np.float64(0.9999774317767492), np.float64(0.011627906976744186))]"
      ]
     },
     "execution_count": 74,
     "metadata": {},
     "output_type": "execute_result"
    }
   ],
   "source": [
    "sorted(f1_scores.items(), key=lambda x: x[1], reverse=True)\n"
   ]
  },
  {
   "cell_type": "markdown",
   "id": "b52d118a",
   "metadata": {},
   "source": [
    "### Question 5: 5-Fold CV\n",
    "\n",
    "\n",
    "Use the `KFold` class from Scikit-Learn to evaluate our model on 5 different folds:\n",
    "\n",
    "```\n",
    "KFold(n_splits=5, shuffle=True, random_state=1)\n",
    "```\n",
    "\n",
    "* Iterate over different folds of `df_full_train`\n",
    "* Split the data into train and validation\n",
    "* Train the model on train with these parameters: `LogisticRegression(solver='liblinear', C=1.0, max_iter=1000)`\n",
    "* Use AUC to evaluate the model on validation\n",
    "\n",
    "How large is standard deviation of the scores across different folds?\n",
    "\n",
    "- 0.0001\n",
    "- 0.006\n",
    "- 0.06\n",
    "- 0.36"
   ]
  },
  {
   "cell_type": "code",
   "execution_count": 75,
   "id": "65606d1c",
   "metadata": {},
   "outputs": [],
   "source": [
    "from sklearn.model_selection import KFold"
   ]
  },
  {
   "cell_type": "code",
   "execution_count": 103,
   "id": "55788698",
   "metadata": {},
   "outputs": [],
   "source": [
    "# def train(df_train, y_train, C=1.0, numerical_vars=numerical_vars, categorical_vars=categorical_vars):\n",
    "#     X_train_num = df_train[numerical_vars]\n",
    "#     scaler = StandardScaler()\n",
    "#     X_train_num = scaler.fit_transform(X_train_num)\n",
    "\n",
    "#     X_train_cat = df_train[categorical_vars]\n",
    "#     train_dicts = X_train_cat.to_dict(orient='records')\n",
    "#     dv = DictVectorizer(sparse=False)\n",
    "#     X_train_cat = dv.fit_transform(train_dicts)\n",
    "\n",
    "#     X_train = np.column_stack([X_train_num, X_train_cat])\n",
    "    \n",
    "#     model = LogisticRegression(solver='liblinear', C=1.0, max_iter=1000)\n",
    "#     model.fit(X_train, y_train)\n",
    "\n",
    "#     return scaler, dv, model\n",
    "\n",
    "def train(df_train, y_train, C=1.0, numerical_vars=numerical_vars, categorical_vars=categorical_vars):\n",
    "    X_train_num = df_train[numerical_vars]\n",
    "    # scaler = StandardScaler()\n",
    "    # X_train_num = scaler.fit_transform(X_train_num)\n",
    "\n",
    "    X_train_cat = df_train[categorical_vars]\n",
    "    train_dicts = X_train_cat.to_dict(orient='records')\n",
    "    dv = DictVectorizer(sparse=False)\n",
    "    X_train_cat = dv.fit_transform(train_dicts)\n",
    "\n",
    "    X_train = np.column_stack([X_train_num, X_train_cat])\n",
    "    \n",
    "    model = LogisticRegression(solver='liblinear', C=C, max_iter=1000)\n",
    "    model.fit(X_train, y_train)\n",
    "\n",
    "    return dv, model\n",
    "\n"
   ]
  },
  {
   "cell_type": "code",
   "execution_count": 104,
   "id": "008d02bc",
   "metadata": {},
   "outputs": [],
   "source": [
    "# def predict(df, scaler, dv, model, numerical_vars=numerical_vars, categorical_vars=categorical_vars):\n",
    "#     X_num = df[numerical_vars]\n",
    "#     X_num = scaler.transform(X_num)\n",
    "\n",
    "#     X_cat = df[categorical_vars]\n",
    "#     val_dicts = X_cat.to_dict(orient='records')\n",
    "#     X_cat = dv.transform(val_dicts\n",
    "#                              )\n",
    "#     X = np.column_stack([X_num, X_cat])\n",
    "#     y_pred_proba = model.predict_proba(X)[:, 1]\n",
    "    \n",
    "#     return y_pred_proba\n",
    "\n",
    "def predict(df, dv, model, numerical_vars=numerical_vars, categorical_vars=categorical_vars):\n",
    "    X_num = df[numerical_vars]\n",
    "    # X_num = scaler.transform(X_num)\n",
    "\n",
    "    X_cat = df[categorical_vars]\n",
    "    val_dicts = X_cat.to_dict(orient='records')\n",
    "    X_cat = dv.transform(val_dicts\n",
    "                             )\n",
    "    X = np.column_stack([X_num, X_cat])\n",
    "    y_pred_proba = model.predict_proba(X)[:, 1]\n",
    "    \n",
    "    return y_pred_proba"
   ]
  },
  {
   "cell_type": "code",
   "execution_count": 105,
   "id": "ff9f6ef0",
   "metadata": {},
   "outputs": [],
   "source": [
    "kfold = KFold(n_splits=5, shuffle=True, random_state=1)\n",
    "\n",
    "scores = []\n",
    "\n",
    "for train_idx, val_idx in kfold.split(df_full_train):\n",
    "    df_train = df_full_train.iloc[train_idx]\n",
    "    df_val = df_full_train.iloc[val_idx]\n",
    "\n",
    "    y_train = df_train.converted.values\n",
    "    y_val = df_val.converted.values\n",
    "\n",
    "    df_train = df_train.drop(columns={'converted'})\n",
    "    df_val = df_val.drop(columns={'converted'})\n",
    "\n",
    "    # scaler, dv, model = train(df_train, y_train)\n",
    "    dv, model = train(df_train, y_train)\n",
    "    # y_pred_proba = predict(df_val, scaler, dv, model)\n",
    "    y_pred_proba = predict(df_val, dv, model)\n",
    "\n",
    "    auc = roc_auc_score(y_val, y_pred_proba)\n",
    "    scores.append(auc)"
   ]
  },
  {
   "cell_type": "code",
   "execution_count": 106,
   "id": "9cb37d3d",
   "metadata": {},
   "outputs": [
    {
     "data": {
      "text/plain": [
       "[0.8060745924216483,\n",
       " 0.8713738368910783,\n",
       " 0.7754320118852139,\n",
       " 0.8018368617683685,\n",
       " 0.8558272713202291]"
      ]
     },
     "execution_count": 106,
     "metadata": {},
     "output_type": "execute_result"
    }
   ],
   "source": [
    "scores"
   ]
  },
  {
   "cell_type": "code",
   "execution_count": 107,
   "id": "e12ff872",
   "metadata": {},
   "outputs": [
    {
     "data": {
      "text/plain": [
       "np.float64(0.03580711942905165)"
      ]
     },
     "execution_count": 107,
     "metadata": {},
     "output_type": "execute_result"
    }
   ],
   "source": [
    "np.std(scores)"
   ]
  },
  {
   "cell_type": "markdown",
   "id": "71ff74e2",
   "metadata": {},
   "source": [
    "## Question 6: Hyperparameter Tuning\n",
    "\n",
    "Now let's use 5-Fold cross-validation to find the best parameter `C`\n",
    "\n",
    "* Iterate over the following `C` values: `[0.000001, 0.001, 1]`\n",
    "* Initialize `KFold` with the same parameters as previously\n",
    "* Use these parameters for the model: `LogisticRegression(solver='liblinear', C=C, max_iter=1000)`\n",
    "* Compute the mean score as well as the std (round the mean and std to 3 decimal digits)\n",
    "\n",
    "Which `C` leads to the best mean score?\n",
    "\n",
    "- 0.000001\n",
    "- 0.001\n",
    "- 1\n"
   ]
  },
  {
   "cell_type": "code",
   "execution_count": 110,
   "id": "8847a825",
   "metadata": {},
   "outputs": [
    {
     "name": "stdout",
     "output_type": "stream",
     "text": [
      "C=1e-06    AUC = 0.560 ± 0.024\n",
      "C=0.001    AUC = 0.867 ± 0.029\n",
      "C=1        AUC = 0.822 ± 0.036\n"
     ]
    }
   ],
   "source": [
    "for C in [0.000001, 0.001, 1]:\n",
    "\n",
    "    kfold = KFold(n_splits=5, shuffle=True, random_state=1)\n",
    "\n",
    "    scores = []\n",
    "\n",
    "    for train_idx, val_idx in kfold.split(df_full_train):\n",
    "        df_train = df_full_train.iloc[train_idx]\n",
    "        df_val = df_full_train.iloc[val_idx]\n",
    "\n",
    "        y_train = df_train.converted.values\n",
    "        y_val = df_val.converted.values\n",
    "\n",
    "        df_train = df_train.drop(columns={'converted'})\n",
    "        df_val = df_val.drop(columns={'converted'})\n",
    "\n",
    "        dv, model = train(df_train, y_train, C=C)\n",
    "        y_pred_proba = predict(df_val, dv, model)\n",
    "\n",
    "        auc = roc_auc_score(y_val, y_pred_proba)\n",
    "        scores.append(auc)\n",
    "\n",
    "    print(f'C={C:<8} AUC = {np.mean(scores):.3f} ± {np.std(scores):.3f}')    "
   ]
  },
  {
   "cell_type": "code",
   "execution_count": null,
   "id": "ed6915b6",
   "metadata": {},
   "outputs": [],
   "source": []
  }
 ],
 "metadata": {
  "kernelspec": {
   "display_name": "machine-learning-zoomcamp-2025",
   "language": "python",
   "name": "python3"
  },
  "language_info": {
   "codemirror_mode": {
    "name": "ipython",
    "version": 3
   },
   "file_extension": ".py",
   "mimetype": "text/x-python",
   "name": "python",
   "nbconvert_exporter": "python",
   "pygments_lexer": "ipython3",
   "version": "3.12.11"
  }
 },
 "nbformat": 4,
 "nbformat_minor": 5
}
